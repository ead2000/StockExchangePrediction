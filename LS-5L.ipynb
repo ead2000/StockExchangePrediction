{
 "cells": [
  {
   "cell_type": "markdown",
   "id": "expanded-mailman",
   "metadata": {},
   "source": [
    "## Import libraries and packages"
   ]
  },
  {
   "cell_type": "code",
   "execution_count": 1,
   "id": "specified-grill",
   "metadata": {},
   "outputs": [],
   "source": [
    "import numpy as np \n",
    "import matplotlib.pyplot as plt\n",
    "import pandas as pd\n",
    "from pandas.tseries.offsets import Week\n",
    "import seaborn as sns\n",
    "import datetime as dt\n",
    "import warnings\n",
    "import time\n",
    "import matplotlib.ticker as tkr\n",
    "from scipy import stats\n",
    "from statsmodels.tsa.stattools import adfuller\n",
    "from sklearn import preprocessing\n",
    "from statsmodels.tsa.stattools import pacf\n",
    "import math\n",
    "import pickle\n",
    "from tensorflow import keras\n",
    "from tensorflow.keras.models import Sequential, model_from_json\n",
    "from tensorflow.keras.layers import *\n",
    "from sklearn.preprocessing import MinMaxScaler\n",
    "from sklearn.metrics import mean_squared_error, mean_absolute_error\n",
    "from tensorflow.keras.callbacks import EarlyStopping\n",
    "import pydot_ng as pydot\n",
    "import yfinance as yf\n",
    "from tensorflow.keras.utils import plot_model"
   ]
  },
  {
   "cell_type": "markdown",
   "id": "armed-parish",
   "metadata": {},
   "source": [
    "## Set libraries settings"
   ]
  },
  {
   "cell_type": "code",
   "execution_count": 2,
   "id": "naked-frame",
   "metadata": {},
   "outputs": [],
   "source": [
    "'''\n",
    "to dislay the visualization in the \"Out\" part of Jupyter notebook\n",
    "'''\n",
    "%matplotlib inline\n",
    "'''\n",
    "values in dataframe will be with a precision of 4 decimal places \n",
    "'''\n",
    "pd.set_option('display.float_format', lambda x: '%.4f' % x)\n",
    "\n",
    "'''\n",
    "seaborn visualization are set with preconfigured values(paper)\n",
    "visualizations will have a dark background and the grid is visible\n",
    "visualizations sized will be 12 by 6\n",
    "'''\n",
    "sns.set_context(\"paper\", font_scale=1.5) \n",
    "sns.set_style('darkgrid')\n",
    "sns.set_style(rc={\"figsize\":(13,10)})\n",
    "FIG_SIZE = (13,10)\n",
    "\n",
    "'''\n",
    "remove all warnings from packages and libraries to have a clean notebook\n",
    "'''\n",
    "warnings.filterwarnings('ignore')"
   ]
  },
  {
   "cell_type": "markdown",
   "id": "answering-scale",
   "metadata": {},
   "source": [
    "## Fetch data from Yahoo Finance"
   ]
  },
  {
   "cell_type": "code",
   "execution_count": 3,
   "id": "convertible-aurora",
   "metadata": {},
   "outputs": [
    {
     "name": "stdout",
     "output_type": "stream",
     "text": [
      "[*********************100%***********************]  1 of 1 completed\n"
     ]
    }
   ],
   "source": [
    "'''\n",
    "Set the start, end date and ticker\n",
    "fetch data with the specified parameters\n",
    "'''\n",
    "start_date = '2000-01-01'\n",
    "end_date = '2022-03-03'\n",
    "ticker = 'TSCO.L'\n",
    "data = yf.download(ticker, start_date, end_date, interval=\"1d\")\n"
   ]
  },
  {
   "cell_type": "code",
   "execution_count": 4,
   "id": "helpful-kenya",
   "metadata": {},
   "outputs": [
    {
     "data": {
      "text/html": [
       "<div>\n",
       "<style scoped>\n",
       "    .dataframe tbody tr th:only-of-type {\n",
       "        vertical-align: middle;\n",
       "    }\n",
       "\n",
       "    .dataframe tbody tr th {\n",
       "        vertical-align: top;\n",
       "    }\n",
       "\n",
       "    .dataframe thead th {\n",
       "        text-align: right;\n",
       "    }\n",
       "</style>\n",
       "<table border=\"1\" class=\"dataframe\">\n",
       "  <thead>\n",
       "    <tr style=\"text-align: right;\">\n",
       "      <th></th>\n",
       "      <th>Open</th>\n",
       "      <th>High</th>\n",
       "      <th>Low</th>\n",
       "      <th>Close</th>\n",
       "      <th>Adj Close</th>\n",
       "      <th>Volume</th>\n",
       "    </tr>\n",
       "    <tr>\n",
       "      <th>Date</th>\n",
       "      <th></th>\n",
       "      <th></th>\n",
       "      <th></th>\n",
       "      <th></th>\n",
       "      <th></th>\n",
       "      <th></th>\n",
       "    </tr>\n",
       "  </thead>\n",
       "  <tbody>\n",
       "    <tr>\n",
       "      <th>2022-02-24</th>\n",
       "      <td>285.8500</td>\n",
       "      <td>287.3500</td>\n",
       "      <td>278.8500</td>\n",
       "      <td>279.6500</td>\n",
       "      <td>271.5579</td>\n",
       "      <td>24807025</td>\n",
       "    </tr>\n",
       "    <tr>\n",
       "      <th>2022-02-25</th>\n",
       "      <td>280.3000</td>\n",
       "      <td>288.4000</td>\n",
       "      <td>279.2000</td>\n",
       "      <td>286.5500</td>\n",
       "      <td>278.2582</td>\n",
       "      <td>22322138</td>\n",
       "    </tr>\n",
       "    <tr>\n",
       "      <th>2022-02-28</th>\n",
       "      <td>285.2500</td>\n",
       "      <td>289.9500</td>\n",
       "      <td>283.1000</td>\n",
       "      <td>289.7500</td>\n",
       "      <td>281.3657</td>\n",
       "      <td>28809655</td>\n",
       "    </tr>\n",
       "    <tr>\n",
       "      <th>2022-03-01</th>\n",
       "      <td>289.3500</td>\n",
       "      <td>293.6400</td>\n",
       "      <td>283.9500</td>\n",
       "      <td>283.9500</td>\n",
       "      <td>275.7335</td>\n",
       "      <td>22462044</td>\n",
       "    </tr>\n",
       "    <tr>\n",
       "      <th>2022-03-02</th>\n",
       "      <td>283.6500</td>\n",
       "      <td>286.8500</td>\n",
       "      <td>277.4800</td>\n",
       "      <td>282.6500</td>\n",
       "      <td>274.4711</td>\n",
       "      <td>34519806</td>\n",
       "    </tr>\n",
       "  </tbody>\n",
       "</table>\n",
       "</div>"
      ],
      "text/plain": [
       "               Open     High      Low    Close  Adj Close    Volume\n",
       "Date                                                               \n",
       "2022-02-24 285.8500 287.3500 278.8500 279.6500   271.5579  24807025\n",
       "2022-02-25 280.3000 288.4000 279.2000 286.5500   278.2582  22322138\n",
       "2022-02-28 285.2500 289.9500 283.1000 289.7500   281.3657  28809655\n",
       "2022-03-01 289.3500 293.6400 283.9500 283.9500   275.7335  22462044\n",
       "2022-03-02 283.6500 286.8500 277.4800 282.6500   274.4711  34519806"
      ]
     },
     "execution_count": 4,
     "metadata": {},
     "output_type": "execute_result"
    }
   ],
   "source": [
    "data.tail()"
   ]
  },
  {
   "cell_type": "markdown",
   "id": "scheduled-monday",
   "metadata": {},
   "source": [
    "## Select the two columns to be considered [\"Open\", \"Close\"]"
   ]
  },
  {
   "cell_type": "code",
   "execution_count": 5,
   "id": "studied-thomas",
   "metadata": {},
   "outputs": [],
   "source": [
    "df = data[[\"Open\", \"Close\"]]"
   ]
  },
  {
   "cell_type": "code",
   "execution_count": 6,
   "id": "laden-auction",
   "metadata": {},
   "outputs": [
    {
     "data": {
      "text/html": [
       "<div>\n",
       "<style scoped>\n",
       "    .dataframe tbody tr th:only-of-type {\n",
       "        vertical-align: middle;\n",
       "    }\n",
       "\n",
       "    .dataframe tbody tr th {\n",
       "        vertical-align: top;\n",
       "    }\n",
       "\n",
       "    .dataframe thead th {\n",
       "        text-align: right;\n",
       "    }\n",
       "</style>\n",
       "<table border=\"1\" class=\"dataframe\">\n",
       "  <thead>\n",
       "    <tr style=\"text-align: right;\">\n",
       "      <th></th>\n",
       "      <th>Open</th>\n",
       "      <th>Close</th>\n",
       "    </tr>\n",
       "    <tr>\n",
       "      <th>Date</th>\n",
       "      <th></th>\n",
       "      <th></th>\n",
       "    </tr>\n",
       "  </thead>\n",
       "  <tbody>\n",
       "    <tr>\n",
       "      <th>1999-12-31</th>\n",
       "      <td>238.4499</td>\n",
       "      <td>238.4499</td>\n",
       "    </tr>\n",
       "    <tr>\n",
       "      <th>2000-01-03</th>\n",
       "      <td>238.4499</td>\n",
       "      <td>238.4499</td>\n",
       "    </tr>\n",
       "    <tr>\n",
       "      <th>2000-01-04</th>\n",
       "      <td>239.3999</td>\n",
       "      <td>230.2165</td>\n",
       "    </tr>\n",
       "    <tr>\n",
       "      <th>2000-01-05</th>\n",
       "      <td>222.9332</td>\n",
       "      <td>234.0165</td>\n",
       "    </tr>\n",
       "    <tr>\n",
       "      <th>2000-01-06</th>\n",
       "      <td>234.0165</td>\n",
       "      <td>234.0165</td>\n",
       "    </tr>\n",
       "    <tr>\n",
       "      <th>...</th>\n",
       "      <td>...</td>\n",
       "      <td>...</td>\n",
       "    </tr>\n",
       "    <tr>\n",
       "      <th>2022-02-24</th>\n",
       "      <td>285.8500</td>\n",
       "      <td>279.6500</td>\n",
       "    </tr>\n",
       "    <tr>\n",
       "      <th>2022-02-25</th>\n",
       "      <td>280.3000</td>\n",
       "      <td>286.5500</td>\n",
       "    </tr>\n",
       "    <tr>\n",
       "      <th>2022-02-28</th>\n",
       "      <td>285.2500</td>\n",
       "      <td>289.7500</td>\n",
       "    </tr>\n",
       "    <tr>\n",
       "      <th>2022-03-01</th>\n",
       "      <td>289.3500</td>\n",
       "      <td>283.9500</td>\n",
       "    </tr>\n",
       "    <tr>\n",
       "      <th>2022-03-02</th>\n",
       "      <td>283.6500</td>\n",
       "      <td>282.6500</td>\n",
       "    </tr>\n",
       "  </tbody>\n",
       "</table>\n",
       "<p>5652 rows × 2 columns</p>\n",
       "</div>"
      ],
      "text/plain": [
       "               Open    Close\n",
       "Date                        \n",
       "1999-12-31 238.4499 238.4499\n",
       "2000-01-03 238.4499 238.4499\n",
       "2000-01-04 239.3999 230.2165\n",
       "2000-01-05 222.9332 234.0165\n",
       "2000-01-06 234.0165 234.0165\n",
       "...             ...      ...\n",
       "2022-02-24 285.8500 279.6500\n",
       "2022-02-25 280.3000 286.5500\n",
       "2022-02-28 285.2500 289.7500\n",
       "2022-03-01 289.3500 283.9500\n",
       "2022-03-02 283.6500 282.6500\n",
       "\n",
       "[5652 rows x 2 columns]"
      ]
     },
     "execution_count": 6,
     "metadata": {},
     "output_type": "execute_result"
    }
   ],
   "source": [
    "df"
   ]
  },
  {
   "cell_type": "markdown",
   "id": "included-honduras",
   "metadata": {},
   "source": [
    "## Visualization of the data, open and close values"
   ]
  },
  {
   "cell_type": "code",
   "execution_count": 7,
   "id": "wireless-nothing",
   "metadata": {},
   "outputs": [
    {
     "data": {
      "text/plain": [
       "<AxesSubplot:xlabel='Date'>"
      ]
     },
     "execution_count": 7,
     "metadata": {},
     "output_type": "execute_result"
    },
    {
     "data": {
      "image/png": "[encoded data removed]",
      "text/plain": [
       "<Figure size 864x720 with 1 Axes>"
      ]
     },
     "metadata": {},
     "output_type": "display_data"
    }
   ],
   "source": [
    "df.iloc[250:650,:].plot(figsize=(12,10))"
   ]
  },
  {
   "cell_type": "markdown",
   "id": "level-conditioning",
   "metadata": {},
   "source": [
    "## Resampling to yearly mean"
   ]
  },
  {
   "cell_type": "code",
   "execution_count": 8,
   "id": "prerequisite-computer",
   "metadata": {},
   "outputs": [],
   "source": [
    "df_year = df.resample(\"Y\").mean()"
   ]
  },
  {
   "cell_type": "markdown",
   "id": "modified-thursday",
   "metadata": {},
   "source": [
    "## Visualization of the yearly mean data"
   ]
  },
  {
   "cell_type": "code",
   "execution_count": 9,
   "id": "whole-civilization",
   "metadata": {},
   "outputs": [
    {
     "data": {
      "text/plain": [
       "<AxesSubplot:xlabel='Date'>"
      ]
     },
     "execution_count": 9,
     "metadata": {},
     "output_type": "execute_result"
    },
    {
     "data": {
      "image/png": "[encoded data removed]",
      "text/plain": [
       "<Figure size 936x720 with 1 Axes>"
      ]
     },
     "metadata": {},
     "output_type": "display_data"
    }
   ],
   "source": [
    "df_year.plot(kind='bar', figsize=FIG_SIZE)"
   ]
  },
  {
   "cell_type": "code",
   "execution_count": 10,
   "id": "architectural-silly",
   "metadata": {},
   "outputs": [
    {
     "data": {
      "text/plain": [
       "<AxesSubplot:>"
      ]
     },
     "execution_count": 10,
     "metadata": {},
     "output_type": "execute_result"
    },
    {
     "data": {
      "image/png": "[encoded data removed]",
      "text/plain": [
       "<Figure size 936x720 with 1 Axes>"
      ]
     },
     "metadata": {},
     "output_type": "display_data"
    }
   ],
   "source": [
    "df_year.plot(kind='box', figsize=FIG_SIZE)"
   ]
  },
  {
   "cell_type": "code",
   "execution_count": null,
   "id": "collective-majority",
   "metadata": {},
   "outputs": [],
   "source": []
  },
  {
   "cell_type": "code",
   "execution_count": 11,
   "id": "loose-laser",
   "metadata": {},
   "outputs": [
    {
     "data": {
      "text/plain": [
       "Date\n",
       "1999-12-31   238.4499\n",
       "2000-01-03   238.4499\n",
       "2000-01-04   230.2165\n",
       "2000-01-05   234.0165\n",
       "2000-01-06   234.0165\n",
       "               ...   \n",
       "2022-02-24   279.6500\n",
       "2022-02-25   286.5500\n",
       "2022-02-28   289.7500\n",
       "2022-03-01   283.9500\n",
       "2022-03-02   282.6500\n",
       "Name: Close, Length: 5652, dtype: float64"
      ]
     },
     "execution_count": 11,
     "metadata": {},
     "output_type": "execute_result"
    }
   ],
   "source": [
    "df[\"Close\"]"
   ]
  },
  {
   "cell_type": "markdown",
   "id": "rough-questionnaire",
   "metadata": {},
   "source": [
    "## Feature extraction, end of week or not"
   ]
  },
  {
   "cell_type": "code",
   "execution_count": 12,
   "id": "after-uruguay",
   "metadata": {},
   "outputs": [],
   "source": [
    "df[\"End of week\"] = df.index.dayofweek.map(lambda x: \"end\" if x == 4 else \"not end\")"
   ]
  },
  {
   "cell_type": "code",
   "execution_count": 13,
   "id": "lonely-channels",
   "metadata": {},
   "outputs": [
    {
     "data": {
      "text/html": [
       "<div>\n",
       "<style scoped>\n",
       "    .dataframe tbody tr th:only-of-type {\n",
       "        vertical-align: middle;\n",
       "    }\n",
       "\n",
       "    .dataframe tbody tr th {\n",
       "        vertical-align: top;\n",
       "    }\n",
       "\n",
       "    .dataframe thead th {\n",
       "        text-align: right;\n",
       "    }\n",
       "</style>\n",
       "<table border=\"1\" class=\"dataframe\">\n",
       "  <thead>\n",
       "    <tr style=\"text-align: right;\">\n",
       "      <th></th>\n",
       "      <th>Open</th>\n",
       "      <th>Close</th>\n",
       "      <th>End of week</th>\n",
       "    </tr>\n",
       "    <tr>\n",
       "      <th>Date</th>\n",
       "      <th></th>\n",
       "      <th></th>\n",
       "      <th></th>\n",
       "    </tr>\n",
       "  </thead>\n",
       "  <tbody>\n",
       "    <tr>\n",
       "      <th>1999-12-31</th>\n",
       "      <td>238.4499</td>\n",
       "      <td>238.4499</td>\n",
       "      <td>end</td>\n",
       "    </tr>\n",
       "    <tr>\n",
       "      <th>2000-01-03</th>\n",
       "      <td>238.4499</td>\n",
       "      <td>238.4499</td>\n",
       "      <td>not end</td>\n",
       "    </tr>\n",
       "    <tr>\n",
       "      <th>2000-01-04</th>\n",
       "      <td>239.3999</td>\n",
       "      <td>230.2165</td>\n",
       "      <td>not end</td>\n",
       "    </tr>\n",
       "    <tr>\n",
       "      <th>2000-01-05</th>\n",
       "      <td>222.9332</td>\n",
       "      <td>234.0165</td>\n",
       "      <td>not end</td>\n",
       "    </tr>\n",
       "    <tr>\n",
       "      <th>2000-01-06</th>\n",
       "      <td>234.0165</td>\n",
       "      <td>234.0165</td>\n",
       "      <td>not end</td>\n",
       "    </tr>\n",
       "    <tr>\n",
       "      <th>...</th>\n",
       "      <td>...</td>\n",
       "      <td>...</td>\n",
       "      <td>...</td>\n",
       "    </tr>\n",
       "    <tr>\n",
       "      <th>2022-02-24</th>\n",
       "      <td>285.8500</td>\n",
       "      <td>279.6500</td>\n",
       "      <td>not end</td>\n",
       "    </tr>\n",
       "    <tr>\n",
       "      <th>2022-02-25</th>\n",
       "      <td>280.3000</td>\n",
       "      <td>286.5500</td>\n",
       "      <td>end</td>\n",
       "    </tr>\n",
       "    <tr>\n",
       "      <th>2022-02-28</th>\n",
       "      <td>285.2500</td>\n",
       "      <td>289.7500</td>\n",
       "      <td>not end</td>\n",
       "    </tr>\n",
       "    <tr>\n",
       "      <th>2022-03-01</th>\n",
       "      <td>289.3500</td>\n",
       "      <td>283.9500</td>\n",
       "      <td>not end</td>\n",
       "    </tr>\n",
       "    <tr>\n",
       "      <th>2022-03-02</th>\n",
       "      <td>283.6500</td>\n",
       "      <td>282.6500</td>\n",
       "      <td>not end</td>\n",
       "    </tr>\n",
       "  </tbody>\n",
       "</table>\n",
       "<p>5652 rows × 3 columns</p>\n",
       "</div>"
      ],
      "text/plain": [
       "               Open    Close End of week\n",
       "Date                                    \n",
       "1999-12-31 238.4499 238.4499         end\n",
       "2000-01-03 238.4499 238.4499     not end\n",
       "2000-01-04 239.3999 230.2165     not end\n",
       "2000-01-05 222.9332 234.0165     not end\n",
       "2000-01-06 234.0165 234.0165     not end\n",
       "...             ...      ...         ...\n",
       "2022-02-24 285.8500 279.6500     not end\n",
       "2022-02-25 280.3000 286.5500         end\n",
       "2022-02-28 285.2500 289.7500     not end\n",
       "2022-03-01 289.3500 283.9500     not end\n",
       "2022-03-02 283.6500 282.6500     not end\n",
       "\n",
       "[5652 rows x 3 columns]"
      ]
     },
     "execution_count": 13,
     "metadata": {},
     "output_type": "execute_result"
    }
   ],
   "source": [
    "df"
   ]
  },
  {
   "cell_type": "code",
   "execution_count": null,
   "id": "brief-landing",
   "metadata": {},
   "outputs": [],
   "source": []
  },
  {
   "cell_type": "code",
   "execution_count": null,
   "id": "french-breath",
   "metadata": {},
   "outputs": [],
   "source": []
  },
  {
   "cell_type": "markdown",
   "id": "apparent-stage",
   "metadata": {},
   "source": [
    "## Second experiment, using the Open and the close values to predict the close values"
   ]
  },
  {
   "cell_type": "code",
   "execution_count": 14,
   "id": "insured-clinic",
   "metadata": {},
   "outputs": [
    {
     "data": {
      "text/plain": [
       "Date\n",
       "1999-12-31   238.4499\n",
       "2000-01-03   238.4499\n",
       "2000-01-04   230.2165\n",
       "2000-01-05   234.0165\n",
       "2000-01-06   234.0165\n",
       "               ...   \n",
       "2022-02-24   279.6500\n",
       "2022-02-25   286.5500\n",
       "2022-02-28   289.7500\n",
       "2022-03-01   283.9500\n",
       "2022-03-02   282.6500\n",
       "Name: Close, Length: 5652, dtype: float64"
      ]
     },
     "execution_count": 14,
     "metadata": {},
     "output_type": "execute_result"
    }
   ],
   "source": [
    "df[\"Close\"]"
   ]
  },
  {
   "cell_type": "code",
   "execution_count": 15,
   "id": "eleven-wrong",
   "metadata": {},
   "outputs": [
    {
     "data": {
      "text/plain": [
       "Date\n",
       "1999-12-31   238.4499\n",
       "2000-01-03   238.4499\n",
       "2000-01-04   230.2165\n",
       "2000-01-05   234.0165\n",
       "2000-01-06   234.0165\n",
       "               ...   \n",
       "2022-02-24   279.6500\n",
       "2022-02-25   286.5500\n",
       "2022-02-28   289.7500\n",
       "2022-03-01   283.9500\n",
       "2022-03-02   282.6500\n",
       "Name: Close, Length: 5652, dtype: float64"
      ]
     },
     "execution_count": 15,
     "metadata": {},
     "output_type": "execute_result"
    }
   ],
   "source": [
    "df.iloc[:,1]"
   ]
  },
  {
   "cell_type": "markdown",
   "id": "curious-expert",
   "metadata": {},
   "source": [
    "## Data Preprocessing"
   ]
  },
  {
   "cell_type": "markdown",
   "id": "satisfied-think",
   "metadata": {},
   "source": [
    "### Processing the features"
   ]
  },
  {
   "cell_type": "code",
   "execution_count": 16,
   "id": "lonely-transcription",
   "metadata": {},
   "outputs": [],
   "source": [
    "'''\n",
    "index the dataframe by picking the first two columns and turn to numpy array\n",
    "initialize MinMax scaler \n",
    "get the transform values of the data\n",
    "'''\n",
    "\n",
    "dataset = df.iloc[:,[0,1]].values #numpy.ndarray\n",
    "scaler_x = MinMaxScaler(feature_range=(0, 1))\n",
    "dataset = scaler_x.fit_transform(dataset)\n",
    "\n",
    "'''\n",
    "manual train test split\n",
    "using a ratio of 80%\n",
    "'''\n",
    "\n",
    "train_size = int(len(dataset) * 0.80)\n",
    "test_size = len(dataset) - train_size\n",
    "train, test = dataset[0:train_size,:], dataset[train_size:len(dataset),:]"
   ]
  },
  {
   "cell_type": "markdown",
   "id": "superior-export",
   "metadata": {},
   "source": [
    "### Processing the target variable"
   ]
  },
  {
   "cell_type": "code",
   "execution_count": 17,
   "id": "polish-glossary",
   "metadata": {},
   "outputs": [],
   "source": [
    "'''\n",
    "index the dataframe to pick the column of the target variable and turn to numpy array\n",
    "reshape the array so it can match the dimension of the scaler\n",
    "'''\n",
    "target_data = df.iloc[:,1].values\n",
    "target_data = np.reshape(target_data, (-1, 1))\n",
    "'''\n",
    "normalize the target variable\n",
    "initialize the scaler and tranform the data\n",
    "'''\n",
    "scaler_y = MinMaxScaler(feature_range=(0, 1))\n",
    "target_data = scaler_y.fit_transform(target_data)\n",
    "'''\n",
    "manual train test split with a ratio of 80%\n",
    "'''\n",
    "train_y_size = int(len(target_data) * 0.80)\n",
    "test_y_size = len(target_data) - train_y_size\n",
    "train_y, test_y = target_data[0:train_y_size,:], target_data[train_y_size:len(dataset),:]\n"
   ]
  },
  {
   "cell_type": "markdown",
   "id": "recognized-spotlight",
   "metadata": {},
   "source": [
    "## Getting time steps"
   ]
  },
  {
   "cell_type": "code",
   "execution_count": 18,
   "id": "dirty-scheme",
   "metadata": {},
   "outputs": [],
   "source": [
    "def create_dataset(features,target_data, look_back=1):\n",
    "    '''\n",
    "    function to create timesteps\n",
    "    '''\n",
    "    X, Y = [], []\n",
    "    for i in range(len(features)-look_back-1):\n",
    "        step = features[i:(i+look_back), :2] \n",
    "        X.append(step)\n",
    "        Y.append(target_data[i + look_back, 0])\n",
    "    return np.array(X), np.array(Y)"
   ]
  },
  {
   "cell_type": "code",
   "execution_count": 19,
   "id": "apart-canal",
   "metadata": {},
   "outputs": [],
   "source": [
    "'''\n",
    "calling the create_dataset function to create the timesteps\n",
    "'''\n",
    "look_back = 5\n",
    "X_train, Y_train = create_dataset(train,train_y, look_back) \n",
    "X_test, Y_test = create_dataset(test,test_y, look_back)"
   ]
  },
  {
   "cell_type": "code",
   "execution_count": 20,
   "id": "indoor-folder",
   "metadata": {
    "scrolled": true
   },
   "outputs": [
    {
     "data": {
      "text/plain": [
       "array([[[0.140096  , 0.13903068],\n",
       "        [0.140096  , 0.13903068],\n",
       "        [0.14221225, 0.12060649],\n",
       "        [0.10553043, 0.12910987],\n",
       "        [0.13021998, 0.12910987]],\n",
       "\n",
       "       [[0.140096  , 0.13903068],\n",
       "        [0.14221225, 0.12060649],\n",
       "        [0.10553043, 0.12910987],\n",
       "        [0.13021998, 0.12910987],\n",
       "        [0.13656875, 0.12202386]],\n",
       "\n",
       "       [[0.14221225, 0.12060649],\n",
       "        [0.10553043, 0.12910987],\n",
       "        [0.13021998, 0.12910987],\n",
       "        [0.13656875, 0.12202386],\n",
       "        [0.12604408, 0.10572551]],\n",
       "\n",
       "       ...,\n",
       "\n",
       "       [[0.12175499, 0.12244904],\n",
       "        [0.12485895, 0.11819731],\n",
       "        [0.11935668, 0.12443301],\n",
       "        [0.12514097, 0.13081057],\n",
       "        [0.13431147, 0.12896824]],\n",
       "\n",
       "       [[0.12485895, 0.11819731],\n",
       "        [0.11935668, 0.12443301],\n",
       "        [0.12514097, 0.13081057],\n",
       "        [0.13431147, 0.12896824],\n",
       "        [0.12965572, 0.13265312]],\n",
       "\n",
       "       [[0.11935668, 0.12443301],\n",
       "        [0.12514097, 0.13081057],\n",
       "        [0.13431147, 0.12896824],\n",
       "        [0.12965572, 0.13265312],\n",
       "        [0.13332397, 0.13392864]]])"
      ]
     },
     "execution_count": 20,
     "metadata": {},
     "output_type": "execute_result"
    }
   ],
   "source": [
    "X_train"
   ]
  },
  {
   "cell_type": "code",
   "execution_count": 23,
   "id": "cordless-clearing",
   "metadata": {},
   "outputs": [
    {
     "data": {
      "text/plain": [
       "array([[[0.140096  , 0.13903068],\n",
       "        [0.140096  , 0.13903068],\n",
       "        [0.14221225, 0.12060649],\n",
       "        [0.10553043, 0.12910987],\n",
       "        [0.13021998, 0.12910987]],\n",
       "\n",
       "       [[0.140096  , 0.13903068],\n",
       "        [0.14221225, 0.12060649],\n",
       "        [0.10553043, 0.12910987],\n",
       "        [0.13021998, 0.12910987],\n",
       "        [0.13656875, 0.12202386]],\n",
       "\n",
       "       [[0.14221225, 0.12060649],\n",
       "        [0.10553043, 0.12910987],\n",
       "        [0.13021998, 0.12910987],\n",
       "        [0.13656875, 0.12202386],\n",
       "        [0.12604408, 0.10572551]],\n",
       "\n",
       "       ...,\n",
       "\n",
       "       [[0.12175499, 0.12244904],\n",
       "        [0.12485895, 0.11819731],\n",
       "        [0.11935668, 0.12443301],\n",
       "        [0.12514097, 0.13081057],\n",
       "        [0.13431147, 0.12896824]],\n",
       "\n",
       "       [[0.12485895, 0.11819731],\n",
       "        [0.11935668, 0.12443301],\n",
       "        [0.12514097, 0.13081057],\n",
       "        [0.13431147, 0.12896824],\n",
       "        [0.12965572, 0.13265312]],\n",
       "\n",
       "       [[0.11935668, 0.12443301],\n",
       "        [0.12514097, 0.13081057],\n",
       "        [0.13431147, 0.12896824],\n",
       "        [0.12965572, 0.13265312],\n",
       "        [0.13332397, 0.13392864]]])"
      ]
     },
     "execution_count": 23,
     "metadata": {},
     "output_type": "execute_result"
    }
   ],
   "source": [
    "X_train"
   ]
  },
  {
   "cell_type": "code",
   "execution_count": 24,
   "id": "surface-colleague",
   "metadata": {},
   "outputs": [
    {
     "data": {
      "text/plain": [
       "array([0.12202386, 0.10572551, 0.08871872, ..., 0.13265312, 0.13392864,\n",
       "       0.13761328])"
      ]
     },
     "execution_count": 24,
     "metadata": {},
     "output_type": "execute_result"
    }
   ],
   "source": [
    "Y_train"
   ]
  },
  {
   "cell_type": "code",
   "execution_count": 25,
   "id": "restricted-edward",
   "metadata": {},
   "outputs": [
    {
     "data": {
      "text/html": [
       "<div>\n",
       "<style scoped>\n",
       "    .dataframe tbody tr th:only-of-type {\n",
       "        vertical-align: middle;\n",
       "    }\n",
       "\n",
       "    .dataframe tbody tr th {\n",
       "        vertical-align: top;\n",
       "    }\n",
       "\n",
       "    .dataframe thead th {\n",
       "        text-align: right;\n",
       "    }\n",
       "</style>\n",
       "<table border=\"1\" class=\"dataframe\">\n",
       "  <thead>\n",
       "    <tr style=\"text-align: right;\">\n",
       "      <th></th>\n",
       "      <th>Open</th>\n",
       "      <th>Close</th>\n",
       "      <th>End of week</th>\n",
       "    </tr>\n",
       "    <tr>\n",
       "      <th>Date</th>\n",
       "      <th></th>\n",
       "      <th></th>\n",
       "      <th></th>\n",
       "    </tr>\n",
       "  </thead>\n",
       "  <tbody>\n",
       "    <tr>\n",
       "      <th>1999-12-31</th>\n",
       "      <td>238.4499</td>\n",
       "      <td>238.4499</td>\n",
       "      <td>end</td>\n",
       "    </tr>\n",
       "    <tr>\n",
       "      <th>2000-01-03</th>\n",
       "      <td>238.4499</td>\n",
       "      <td>238.4499</td>\n",
       "      <td>not end</td>\n",
       "    </tr>\n",
       "    <tr>\n",
       "      <th>2000-01-04</th>\n",
       "      <td>239.3999</td>\n",
       "      <td>230.2165</td>\n",
       "      <td>not end</td>\n",
       "    </tr>\n",
       "    <tr>\n",
       "      <th>2000-01-05</th>\n",
       "      <td>222.9332</td>\n",
       "      <td>234.0165</td>\n",
       "      <td>not end</td>\n",
       "    </tr>\n",
       "    <tr>\n",
       "      <th>2000-01-06</th>\n",
       "      <td>234.0165</td>\n",
       "      <td>234.0165</td>\n",
       "      <td>not end</td>\n",
       "    </tr>\n",
       "    <tr>\n",
       "      <th>2000-01-07</th>\n",
       "      <td>236.8665</td>\n",
       "      <td>230.8499</td>\n",
       "      <td>end</td>\n",
       "    </tr>\n",
       "    <tr>\n",
       "      <th>2000-01-10</th>\n",
       "      <td>232.1419</td>\n",
       "      <td>223.5665</td>\n",
       "      <td>not end</td>\n",
       "    </tr>\n",
       "    <tr>\n",
       "      <th>2000-01-11</th>\n",
       "      <td>227.9999</td>\n",
       "      <td>215.9665</td>\n",
       "      <td>not end</td>\n",
       "    </tr>\n",
       "  </tbody>\n",
       "</table>\n",
       "</div>"
      ],
      "text/plain": [
       "               Open    Close End of week\n",
       "Date                                    \n",
       "1999-12-31 238.4499 238.4499         end\n",
       "2000-01-03 238.4499 238.4499     not end\n",
       "2000-01-04 239.3999 230.2165     not end\n",
       "2000-01-05 222.9332 234.0165     not end\n",
       "2000-01-06 234.0165 234.0165     not end\n",
       "2000-01-07 236.8665 230.8499         end\n",
       "2000-01-10 232.1419 223.5665     not end\n",
       "2000-01-11 227.9999 215.9665     not end"
      ]
     },
     "execution_count": 25,
     "metadata": {},
     "output_type": "execute_result"
    }
   ],
   "source": [
    "df.iloc[:8,:]"
   ]
  },
  {
   "cell_type": "code",
   "execution_count": 26,
   "id": "metallic-rehabilitation",
   "metadata": {},
   "outputs": [
    {
     "data": {
      "text/plain": [
       "(1125,)"
      ]
     },
     "execution_count": 26,
     "metadata": {},
     "output_type": "execute_result"
    }
   ],
   "source": [
    "Y_test.shape"
   ]
  },
  {
   "cell_type": "markdown",
   "id": "endless-bundle",
   "metadata": {},
   "source": [
    "## Model initialization"
   ]
  },
  {
   "cell_type": "code",
   "execution_count": 27,
   "id": "linear-soviet",
   "metadata": {},
   "outputs": [],
   "source": [
    "'''\n",
    "using the Sequential API to build the model since we are using a linear model architecture\n",
    "using a LSTM model\n",
    "'''\n",
    "model = Sequential()\n",
    "model.add(LSTM(100, input_shape=(X_train.shape[1], X_train.shape[2]), return_sequences=True)) \n",
    "model.add(Dropout(0.2))\n",
    "model.add(LSTM(50, return_sequences=True))\n",
    "model.add(LSTM(30, return_sequences=True))\n",
    "model.add(LSTM(20))\n",
    "model.add(Dense(1))\n",
    "'''\n",
    "compile the model with mean squared error loss function with Adam optimizer\n",
    "'''\n",
    "model.compile(loss='mean_squared_error', optimizer='adam')"
   ]
  },
  {
   "cell_type": "code",
   "execution_count": 28,
   "id": "convinced-memorabilia",
   "metadata": {},
   "outputs": [
    {
     "name": "stdout",
     "output_type": "stream",
     "text": [
      "Model: \"sequential\"\n",
      "_________________________________________________________________\n",
      "Layer (type)                 Output Shape              Param #   \n",
      "=================================================================\n",
      "lstm (LSTM)                  (None, 5, 100)            41200     \n",
      "_________________________________________________________________\n",
      "dropout (Dropout)            (None, 5, 100)            0         \n",
      "_________________________________________________________________\n",
      "lstm_1 (LSTM)                (None, 5, 50)             30200     \n",
      "_________________________________________________________________\n",
      "lstm_2 (LSTM)                (None, 5, 30)             9720      \n",
      "_________________________________________________________________\n",
      "lstm_3 (LSTM)                (None, 20)                4080      \n",
      "_________________________________________________________________\n",
      "dense (Dense)                (None, 1)                 21        \n",
      "=================================================================\n",
      "Total params: 85,221\n",
      "Trainable params: 85,221\n",
      "Non-trainable params: 0\n",
      "_________________________________________________________________\n"
     ]
    }
   ],
   "source": [
    "'''\n",
    "model summary showing the parameter of the model\n",
    "'''\n",
    "model.summary()"
   ]
  },
  {
   "cell_type": "code",
   "execution_count": 29,
   "id": "coupled-latest",
   "metadata": {},
   "outputs": [
    {
     "data": {
      "image/png": "[encoded data removed]",
      "text/plain": [
       "<IPython.core.display.Image object>"
      ]
     },
     "execution_count": 29,
     "metadata": {},
     "output_type": "execute_result"
    }
   ],
   "source": [
    "plot_model(model)"
   ]
  },
  {
   "cell_type": "code",
   "execution_count": 17,
   "id": "seeing-cameroon",
   "metadata": {},
   "outputs": [],
   "source": [
    "'''\n",
    "model training parameters\n",
    "'''\n",
    "EPOCHS = 50\n",
    "BATCH_SIZE = 5\n",
    "VERBOSE = 1\n",
    "SHUFFLE = False"
   ]
  },
  {
   "cell_type": "markdown",
   "id": "polished-ratio",
   "metadata": {},
   "source": [
    "## Model training"
   ]
  },
  {
   "cell_type": "code",
   "execution_count": 18,
   "id": "european-introduction",
   "metadata": {
    "scrolled": true
   },
   "outputs": [
    {
     "name": "stdout",
     "output_type": "stream",
     "text": [
      "Epoch 1/50\n",
      "903/903 [==============================] - 2s 2ms/step - loss: 0.0023 - val_loss: 0.0138\n",
      "Epoch 2/50\n",
      "903/903 [==============================] - 2s 2ms/step - loss: 0.0042 - val_loss: 0.0122\n",
      "Epoch 3/50\n",
      "903/903 [==============================] - 2s 2ms/step - loss: 0.0052 - val_loss: 0.0114\n",
      "Epoch 4/50\n",
      "903/903 [==============================] - 2s 2ms/step - loss: 0.0051 - val_loss: 0.0098\n",
      "Epoch 5/50\n",
      "903/903 [==============================] - 2s 2ms/step - loss: 0.0042 - val_loss: 0.0050\n",
      "Epoch 6/50\n",
      "903/903 [==============================] - 2s 2ms/step - loss: 0.0032 - val_loss: 0.0042\n",
      "Epoch 7/50\n",
      "903/903 [==============================] - 2s 2ms/step - loss: 0.0030 - val_loss: 0.0040\n",
      "Epoch 8/50\n",
      "903/903 [==============================] - 2s 2ms/step - loss: 0.0030 - val_loss: 0.0106\n",
      "Epoch 9/50\n",
      "903/903 [==============================] - 2s 2ms/step - loss: 0.0029 - val_loss: 0.0050\n",
      "Epoch 10/50\n",
      "903/903 [==============================] - 2s 2ms/step - loss: 0.0028 - val_loss: 0.0013\n",
      "Epoch 11/50\n",
      "903/903 [==============================] - 2s 2ms/step - loss: 0.0026 - val_loss: 0.0013\n",
      "Epoch 12/50\n",
      "903/903 [==============================] - 2s 2ms/step - loss: 0.0028 - val_loss: 0.0022\n",
      "Epoch 13/50\n",
      "903/903 [==============================] - 2s 2ms/step - loss: 0.0028 - val_loss: 0.0043\n",
      "Epoch 14/50\n",
      "903/903 [==============================] - 3s 3ms/step - loss: 0.0028 - val_loss: 6.4571e-04\n",
      "Epoch 15/50\n",
      "903/903 [==============================] - 2s 3ms/step - loss: 0.0026 - val_loss: 0.0046\n",
      "Epoch 16/50\n",
      "903/903 [==============================] - 2s 3ms/step - loss: 0.0028 - val_loss: 6.9399e-04\n",
      "Epoch 17/50\n",
      "903/903 [==============================] - 2s 2ms/step - loss: 0.0025 - val_loss: 0.0034\n",
      "Epoch 18/50\n",
      "903/903 [==============================] - 2s 2ms/step - loss: 0.0028 - val_loss: 0.0013\n",
      "Epoch 19/50\n",
      "903/903 [==============================] - 2s 2ms/step - loss: 0.0025 - val_loss: 0.0048\n",
      "Epoch 20/50\n",
      "903/903 [==============================] - 2s 2ms/step - loss: 0.0027 - val_loss: 0.0018\n",
      "Epoch 21/50\n",
      "903/903 [==============================] - 2s 2ms/step - loss: 0.0026 - val_loss: 0.0026\n",
      "Epoch 22/50\n",
      "903/903 [==============================] - 2s 2ms/step - loss: 0.0026 - val_loss: 0.0046\n",
      "Epoch 23/50\n",
      "903/903 [==============================] - 2s 2ms/step - loss: 0.0027 - val_loss: 0.0023\n",
      "Epoch 24/50\n",
      "903/903 [==============================] - 2s 2ms/step - loss: 0.0024 - val_loss: 0.0023\n",
      "Epoch 25/50\n",
      "903/903 [==============================] - 2s 2ms/step - loss: 0.0023 - val_loss: 0.0028\n",
      "Epoch 26/50\n",
      "903/903 [==============================] - 2s 2ms/step - loss: 0.0021 - val_loss: 0.0025\n",
      "Epoch 27/50\n",
      "903/903 [==============================] - 2s 2ms/step - loss: 0.0020 - val_loss: 0.0020\n",
      "Epoch 28/50\n",
      "903/903 [==============================] - 2s 3ms/step - loss: 0.0017 - val_loss: 0.0024\n",
      "Epoch 29/50\n",
      "903/903 [==============================] - 2s 2ms/step - loss: 0.0016 - val_loss: 0.0024\n",
      "Epoch 30/50\n",
      "903/903 [==============================] - 2s 2ms/step - loss: 0.0015 - val_loss: 0.0022\n",
      "Epoch 31/50\n",
      "903/903 [==============================] - 2s 2ms/step - loss: 0.0014 - val_loss: 0.0023\n",
      "Epoch 32/50\n",
      "903/903 [==============================] - 2s 2ms/step - loss: 0.0013 - val_loss: 0.0022\n",
      "Epoch 33/50\n",
      "903/903 [==============================] - 2s 2ms/step - loss: 0.0012 - val_loss: 0.0026\n",
      "Epoch 34/50\n",
      "903/903 [==============================] - 2s 2ms/step - loss: 0.0011 - val_loss: 0.0025\n",
      "Epoch 35/50\n",
      "903/903 [==============================] - 2s 2ms/step - loss: 0.0010 - val_loss: 0.0027\n",
      "Epoch 36/50\n",
      "903/903 [==============================] - 5s 5ms/step - loss: 9.5866e-04 - val_loss: 0.0025\n",
      "Epoch 37/50\n",
      "903/903 [==============================] - 4s 4ms/step - loss: 8.7754e-04 - val_loss: 0.0030\n",
      "Epoch 38/50\n",
      "903/903 [==============================] - 3s 3ms/step - loss: 8.1743e-04 - val_loss: 0.0029\n",
      "Epoch 39/50\n",
      "903/903 [==============================] - 2s 2ms/step - loss: 7.6638e-04 - val_loss: 0.0028\n",
      "Epoch 40/50\n",
      "903/903 [==============================] - 3s 3ms/step - loss: 7.5659e-04 - val_loss: 0.0023\n",
      "Epoch 41/50\n",
      "903/903 [==============================] - 2s 2ms/step - loss: 6.5268e-04 - val_loss: 0.0024\n",
      "Epoch 42/50\n",
      "903/903 [==============================] - 3s 3ms/step - loss: 6.4451e-04 - val_loss: 0.0028\n",
      "Epoch 43/50\n",
      "903/903 [==============================] - 2s 3ms/step - loss: 6.3823e-04 - val_loss: 0.0020\n",
      "Epoch 44/50\n",
      "903/903 [==============================] - 2s 2ms/step - loss: 6.2550e-04 - val_loss: 0.0021\n",
      "Epoch 45/50\n",
      "903/903 [==============================] - 2s 2ms/step - loss: 5.9712e-04 - val_loss: 0.0019\n",
      "Epoch 46/50\n",
      "903/903 [==============================] - 2s 2ms/step - loss: 5.9592e-04 - val_loss: 0.0027\n",
      "Epoch 47/50\n",
      "903/903 [==============================] - 2s 2ms/step - loss: 6.1030e-04 - val_loss: 0.0022\n",
      "Epoch 48/50\n",
      "903/903 [==============================] - 2s 2ms/step - loss: 5.6264e-04 - val_loss: 0.0020\n",
      "Epoch 49/50\n",
      "903/903 [==============================] - 2s 2ms/step - loss: 5.5322e-04 - val_loss: 0.0023\n",
      "Epoch 50/50\n",
      "903/903 [==============================] - 2s 2ms/step - loss: 5.7895e-04 - val_loss: 0.0016\n"
     ]
    }
   ],
   "source": [
    "'''\n",
    "train model with already specified paramteres above\n",
    "'''\n",
    "history = model.fit(X_train, Y_train, \n",
    "                    epochs=EPOCHS, \n",
    "                    batch_size=BATCH_SIZE, \n",
    "                    validation_data=(X_test, Y_test), \n",
    "                    verbose=VERBOSE, \n",
    "                    shuffle=SHUFFLE)"
   ]
  },
  {
   "cell_type": "markdown",
   "id": "secret-judges",
   "metadata": {},
   "source": [
    "## Visualization of training and test loss during training"
   ]
  },
  {
   "cell_type": "markdown",
   "id": "expanded-genetics",
   "metadata": {},
   "source": [
    "### Graph for first experiment"
   ]
  },
  {
   "cell_type": "code",
   "execution_count": 19,
   "id": "presidential-tsunami",
   "metadata": {},
   "outputs": [
    {
     "data": {
      "image/png": "[encoded data removed]",
      "text/plain": [
       "<Figure size 720x360 with 1 Axes>"
      ]
     },
     "metadata": {},
     "output_type": "display_data"
    }
   ],
   "source": [
    "plt.figure(figsize=(10,5))\n",
    "plt.plot(history.history['loss'], label='Train Loss')\n",
    "plt.plot(history.history['val_loss'], label='Test Loss')\n",
    "plt.title('model loss for LSTM 3 layers 5 timesteps')\n",
    "plt.ylabel('loss')\n",
    "plt.xlabel('epochs')\n",
    "plt.legend(loc='upper right')\n",
    "plt.show()"
   ]
  },
  {
   "cell_type": "markdown",
   "id": "stainless-intellectual",
   "metadata": {},
   "source": [
    "## Predictions"
   ]
  },
  {
   "cell_type": "code",
   "execution_count": 20,
   "id": "developed-disease",
   "metadata": {},
   "outputs": [
    {
     "name": "stdout",
     "output_type": "stream",
     "text": [
      "0.5704598426818848\n"
     ]
    }
   ],
   "source": [
    "import time\n",
    "start=time.time()\n",
    "train_predict = model.predict(X_train)\n",
    "test_predict = model.predict(X_test)\n",
    "# invert predictions\n",
    "train_predict = scaler_y.inverse_transform(train_predict)\n",
    "Y_train = scaler_y.inverse_transform(Y_train.reshape(-1,1))\n",
    "test_predict = scaler_y.inverse_transform(test_predict)\n",
    "Y_test = scaler_y.inverse_transform(Y_test.reshape(-1,1))\n",
    "end=time.time()\n",
    "prediction_time=end-start\n",
    "print(prediction_time)"
   ]
  },
  {
   "cell_type": "markdown",
   "id": "computational-nelson",
   "metadata": {},
   "source": [
    "## Evaluations"
   ]
  },
  {
   "cell_type": "markdown",
   "id": "second-heather",
   "metadata": {},
   "source": [
    "### Evaluation for this experiment"
   ]
  },
  {
   "cell_type": "code",
   "execution_count": 21,
   "id": "agreed-thumb",
   "metadata": {},
   "outputs": [
    {
     "name": "stdout",
     "output_type": "stream",
     "text": [
      "Train Mean Absolute Error: 29.472458619110345\n",
      "Train Root Mean Squared Error: 33.1964714913137\n",
      "Test Mean Absolute Error: 16.416234049479165\n",
      "Test Root Mean Squared Error: 17.70177721158524\n"
     ]
    }
   ],
   "source": [
    "print('Train Mean Absolute Error:', mean_absolute_error(Y_train, train_predict))\n",
    "print('Train Root Mean Squared Error:',np.sqrt(mean_squared_error(Y_train, train_predict)))\n",
    "print('Test Mean Absolute Error:', mean_absolute_error(Y_test, test_predict))\n",
    "print('Test Root Mean Squared Error:',np.sqrt(mean_squared_error(Y_test, test_predict)))"
   ]
  },
  {
   "cell_type": "markdown",
   "id": "unable-myanmar",
   "metadata": {},
   "source": [
    "## Visualization of real price vs predicted price "
   ]
  },
  {
   "cell_type": "code",
   "execution_count": 22,
   "id": "hybrid-teens",
   "metadata": {},
   "outputs": [
    {
     "data": {
      "image/png": "[encoded data removed]",
      "text/plain": [
       "<Figure size 864x576 with 1 Axes>"
      ]
     },
     "metadata": {},
     "output_type": "display_data"
    }
   ],
   "source": [
    "plt.figure(figsize=(12,8))\n",
    "plt.plot(Y_train[:100], color = 'red', label = 'Real stock price')\n",
    "plt.plot(train_predict[:100], color = 'blue', label = 'Predicted stock price')\n",
    "plt.xlabel('Time')\n",
    "plt.ylabel('Price')\n",
    "plt.title('LSTM 3 layers with 5 timesteps')\n",
    "plt.legend()\n",
    "plt.show()"
   ]
  },
  {
   "cell_type": "markdown",
   "id": "structured-crime",
   "metadata": {},
   "source": [
    "## Test with entirely new data"
   ]
  },
  {
   "cell_type": "markdown",
   "id": "cordless-direction",
   "metadata": {},
   "source": [
    "### Fetch data"
   ]
  },
  {
   "cell_type": "code",
   "execution_count": 23,
   "id": "devoted-wells",
   "metadata": {},
   "outputs": [
    {
     "name": "stdout",
     "output_type": "stream",
     "text": [
      "[*********************100%***********************]  1 of 1 completed\n"
     ]
    }
   ],
   "source": [
    "'''\n",
    "set new start and end date\n",
    "using the same ticker \n",
    "'''\n",
    "start_date = '2022-03-04'\n",
    "end_date = '2022-05-05'\n",
    "'''\n",
    "fetch new data with the specified parameters\n",
    "'''\n",
    "\n",
    "data = yf.download(ticker, start_date, end_date, interval=\"1d\")\n"
   ]
  },
  {
   "cell_type": "code",
   "execution_count": 24,
   "id": "affected-target",
   "metadata": {},
   "outputs": [
    {
     "data": {
      "text/html": [
       "<div>\n",
       "<style scoped>\n",
       "    .dataframe tbody tr th:only-of-type {\n",
       "        vertical-align: middle;\n",
       "    }\n",
       "\n",
       "    .dataframe tbody tr th {\n",
       "        vertical-align: top;\n",
       "    }\n",
       "\n",
       "    .dataframe thead th {\n",
       "        text-align: right;\n",
       "    }\n",
       "</style>\n",
       "<table border=\"1\" class=\"dataframe\">\n",
       "  <thead>\n",
       "    <tr style=\"text-align: right;\">\n",
       "      <th></th>\n",
       "      <th>Open</th>\n",
       "      <th>High</th>\n",
       "      <th>Low</th>\n",
       "      <th>Close</th>\n",
       "      <th>Adj Close</th>\n",
       "      <th>Volume</th>\n",
       "    </tr>\n",
       "    <tr>\n",
       "      <th>Date</th>\n",
       "      <th></th>\n",
       "      <th></th>\n",
       "      <th></th>\n",
       "      <th></th>\n",
       "      <th></th>\n",
       "      <th></th>\n",
       "    </tr>\n",
       "  </thead>\n",
       "  <tbody>\n",
       "    <tr>\n",
       "      <th>2022-04-27</th>\n",
       "      <td>271.4000</td>\n",
       "      <td>274.5000</td>\n",
       "      <td>268.2000</td>\n",
       "      <td>273.6000</td>\n",
       "      <td>265.6830</td>\n",
       "      <td>18295919</td>\n",
       "    </tr>\n",
       "    <tr>\n",
       "      <th>2022-04-28</th>\n",
       "      <td>275.1000</td>\n",
       "      <td>275.2000</td>\n",
       "      <td>269.1000</td>\n",
       "      <td>272.3000</td>\n",
       "      <td>264.4206</td>\n",
       "      <td>13764025</td>\n",
       "    </tr>\n",
       "    <tr>\n",
       "      <th>2022-04-29</th>\n",
       "      <td>271.3000</td>\n",
       "      <td>275.1000</td>\n",
       "      <td>270.7570</td>\n",
       "      <td>272.0000</td>\n",
       "      <td>264.1293</td>\n",
       "      <td>19853422</td>\n",
       "    </tr>\n",
       "    <tr>\n",
       "      <th>2022-05-03</th>\n",
       "      <td>270.0000</td>\n",
       "      <td>277.4000</td>\n",
       "      <td>268.8000</td>\n",
       "      <td>276.7000</td>\n",
       "      <td>268.6933</td>\n",
       "      <td>32592907</td>\n",
       "    </tr>\n",
       "    <tr>\n",
       "      <th>2022-05-04</th>\n",
       "      <td>276.0000</td>\n",
       "      <td>277.9000</td>\n",
       "      <td>270.1000</td>\n",
       "      <td>271.7000</td>\n",
       "      <td>263.8380</td>\n",
       "      <td>14432045</td>\n",
       "    </tr>\n",
       "  </tbody>\n",
       "</table>\n",
       "</div>"
      ],
      "text/plain": [
       "               Open     High      Low    Close  Adj Close    Volume\n",
       "Date                                                               \n",
       "2022-04-27 271.4000 274.5000 268.2000 273.6000   265.6830  18295919\n",
       "2022-04-28 275.1000 275.2000 269.1000 272.3000   264.4206  13764025\n",
       "2022-04-29 271.3000 275.1000 270.7570 272.0000   264.1293  19853422\n",
       "2022-05-03 270.0000 277.4000 268.8000 276.7000   268.6933  32592907\n",
       "2022-05-04 276.0000 277.9000 270.1000 271.7000   263.8380  14432045"
      ]
     },
     "execution_count": 24,
     "metadata": {},
     "output_type": "execute_result"
    }
   ],
   "source": [
    "data.tail()"
   ]
  },
  {
   "cell_type": "markdown",
   "id": "offensive-monroe",
   "metadata": {},
   "source": [
    "### Select columns in contention"
   ]
  },
  {
   "cell_type": "markdown",
   "id": "theoretical-equilibrium",
   "metadata": {},
   "source": [
    "- I only want the Open and Close columns"
   ]
  },
  {
   "cell_type": "code",
   "execution_count": 25,
   "id": "passing-interval",
   "metadata": {},
   "outputs": [],
   "source": [
    "'''\n",
    "pick out the Open and Close columns in the dataset\n",
    "'''\n",
    "df = data[[\"Open\", \"Close\"]]"
   ]
  },
  {
   "cell_type": "markdown",
   "id": "ideal-twist",
   "metadata": {},
   "source": [
    "### Normalizing the data"
   ]
  },
  {
   "cell_type": "markdown",
   "id": "afraid-editing",
   "metadata": {},
   "source": [
    "- I normalized the data before training in the beginning"
   ]
  },
  {
   "cell_type": "code",
   "execution_count": 26,
   "id": "virtual-episode",
   "metadata": {},
   "outputs": [],
   "source": [
    "'''\n",
    "index out the data from the first and second columns and turn to numpy array\n",
    "transfrom the array with the scaler_x for the features part \n",
    "'''\n",
    "data = df.iloc[:,[0,1]].values\n",
    "data = scaler_x.transform(data)"
   ]
  },
  {
   "cell_type": "markdown",
   "id": "interim-caution",
   "metadata": {},
   "source": [
    "- Preview"
   ]
  },
  {
   "cell_type": "code",
   "execution_count": 27,
   "id": "developmental-monkey",
   "metadata": {
    "scrolled": true
   },
   "outputs": [
    {
     "data": {
      "text/plain": [
       "array([[0.2362187 , 0.23514174],\n",
       "       [0.23376828, 0.22160345],\n",
       "       [0.21527894, 0.21589717],\n",
       "       [0.20458625, 0.20079244],\n",
       "       [0.20926429, 0.22037265],\n",
       "       [0.21962279, 0.21880627],\n",
       "       [0.22162764, 0.21578531],\n",
       "       [0.21761793, 0.22518384],\n",
       "       [0.22307566, 0.22865231],\n",
       "       [0.23521623, 0.22675022],\n",
       "       [0.2287561 , 0.22619078],\n",
       "       [0.21873174, 0.22921174],\n",
       "       [0.23020405, 0.22607892],\n",
       "       [0.22975857, 0.22977118],\n",
       "       [0.2319862 , 0.22328175],\n",
       "       [0.22307566, 0.22093208],\n",
       "       [0.2220732 , 0.22249853],\n",
       "       [0.22574878, 0.23256835],\n",
       "       [0.23710974, 0.23256835],\n",
       "       [0.23510488, 0.23838648],\n",
       "       [0.24111945, 0.22305796],\n",
       "       [0.22552601, 0.22977118],\n",
       "       [0.2281992 , 0.22283418],\n",
       "       [0.22441219, 0.22014893],\n",
       "       [0.2172838 , 0.21567345],\n",
       "       [0.2188431 , 0.21567345],\n",
       "       [0.21928865, 0.21254057],\n",
       "       [0.21327401, 0.2212678 ],\n",
       "       [0.21572442, 0.21097419],\n",
       "       [0.18921557, 0.19889042],\n",
       "       [0.1999082 , 0.20135188],\n",
       "       [0.20213583, 0.21030283],\n",
       "       [0.21394234, 0.20179945],\n",
       "       [0.2036952 , 0.19866663],\n",
       "       [0.19500744, 0.1997855 ],\n",
       "       [0.19478466, 0.20649871],\n",
       "       [0.20993256, 0.21007911],\n",
       "       [0.21349679, 0.21768741],\n",
       "       [0.22173907, 0.2147783 ],\n",
       "       [0.21327401, 0.21410701],\n",
       "       [0.21037811, 0.22462441],\n",
       "       [0.22374392, 0.21343572]])"
      ]
     },
     "execution_count": 27,
     "metadata": {},
     "output_type": "execute_result"
    }
   ],
   "source": [
    "data"
   ]
  },
  {
   "cell_type": "markdown",
   "id": "australian-hacker",
   "metadata": {},
   "source": [
    "### process the target variable"
   ]
  },
  {
   "cell_type": "code",
   "execution_count": 28,
   "id": "intended-cotton",
   "metadata": {},
   "outputs": [],
   "source": [
    "'''\n",
    "index out the target variable and turn to numpy array\n",
    "reshape the array\n",
    "'''\n",
    "target_data = df.iloc[:,1].values\n",
    "target_data = np.reshape(target_data, (-1, 1))\n",
    "'''\n",
    "transform the array with the scaler_y which is for the target variable\n",
    "'''\n",
    "target_data = scaler_y.transform(target_data)"
   ]
  },
  {
   "cell_type": "code",
   "execution_count": 29,
   "id": "loved-algorithm",
   "metadata": {
    "scrolled": true
   },
   "outputs": [
    {
     "data": {
      "text/plain": [
       "array([[0.23514174],\n",
       "       [0.22160345],\n",
       "       [0.21589717],\n",
       "       [0.20079244],\n",
       "       [0.22037265],\n",
       "       [0.21880627],\n",
       "       [0.21578531],\n",
       "       [0.22518384],\n",
       "       [0.22865231],\n",
       "       [0.22675022],\n",
       "       [0.22619078],\n",
       "       [0.22921174],\n",
       "       [0.22607892],\n",
       "       [0.22977118],\n",
       "       [0.22328175],\n",
       "       [0.22093208],\n",
       "       [0.22249853],\n",
       "       [0.23256835],\n",
       "       [0.23256835],\n",
       "       [0.23838648],\n",
       "       [0.22305796],\n",
       "       [0.22977118],\n",
       "       [0.22283418],\n",
       "       [0.22014893],\n",
       "       [0.21567345],\n",
       "       [0.21567345],\n",
       "       [0.21254057],\n",
       "       [0.2212678 ],\n",
       "       [0.21097419],\n",
       "       [0.19889042],\n",
       "       [0.20135188],\n",
       "       [0.21030283],\n",
       "       [0.20179945],\n",
       "       [0.19866663],\n",
       "       [0.1997855 ],\n",
       "       [0.20649871],\n",
       "       [0.21007911],\n",
       "       [0.21768741],\n",
       "       [0.2147783 ],\n",
       "       [0.21410701],\n",
       "       [0.22462441],\n",
       "       [0.21343572]])"
      ]
     },
     "execution_count": 29,
     "metadata": {},
     "output_type": "execute_result"
    }
   ],
   "source": [
    "target_data"
   ]
  },
  {
   "cell_type": "code",
   "execution_count": 30,
   "id": "cubic-visit",
   "metadata": {},
   "outputs": [],
   "source": [
    "'''\n",
    "perform the timesteps function\n",
    "'''\n",
    "look_back = 5\n",
    "X_test_new, Y_test_new = create_dataset(data,target_data, look_back) "
   ]
  },
  {
   "cell_type": "markdown",
   "id": "challenging-correlation",
   "metadata": {},
   "source": [
    "### Prediction"
   ]
  },
  {
   "cell_type": "code",
   "execution_count": 31,
   "id": "multiple-halloween",
   "metadata": {},
   "outputs": [
    {
     "name": "stdout",
     "output_type": "stream",
     "text": [
      "0.05641818046569824\n"
     ]
    }
   ],
   "source": [
    "'''\n",
    "perform a timed prediction\n",
    "after the prediction, perform inverse transform to get the original prices\n",
    "'''\n",
    "start=time.time()\n",
    "\n",
    "random_test = model.predict(X_test_new)\n",
    "# invert predictions\n",
    "test_new_predict = scaler_y.inverse_transform(random_test)\n",
    "Y_test_new = scaler_y.inverse_transform(Y_test_new.reshape(-1,1))\n",
    "\n",
    "end=time.time()\n",
    "\n",
    "prediction_time=end-start\n",
    "\n",
    "print(prediction_time)"
   ]
  },
  {
   "cell_type": "markdown",
   "id": "interpreted-telephone",
   "metadata": {},
   "source": [
    "### Visualization of the real stock price and the predicted stock price"
   ]
  },
  {
   "cell_type": "code",
   "execution_count": 32,
   "id": "breathing-rescue",
   "metadata": {},
   "outputs": [
    {
     "data": {
      "image/png": "[encoded data removed]",
      "text/plain": [
       "<Figure size 864x576 with 1 Axes>"
      ]
     },
     "metadata": {},
     "output_type": "display_data"
    }
   ],
   "source": [
    "plt.figure(figsize=(12,8))\n",
    "plt.plot(Y_test_new, color = 'red', label = 'Real stock prices')\n",
    "plt.plot(test_new_predict, color = 'blue', label = 'Predicted Stock prices')\n",
    "plt.xlabel('Time')\n",
    "plt.ylabel('Price')\n",
    "plt.title('New data LSTM 3 layers 5 timesteps')\n",
    "plt.legend()\n",
    "plt.show()"
   ]
  },
  {
   "cell_type": "code",
   "execution_count": 33,
   "id": "friendly-software",
   "metadata": {},
   "outputs": [
    {
     "data": {
      "text/plain": [
       "(42, 2)"
      ]
     },
     "execution_count": 33,
     "metadata": {},
     "output_type": "execute_result"
    }
   ],
   "source": [
    "data.shape"
   ]
  },
  {
   "cell_type": "markdown",
   "id": "vanilla-permission",
   "metadata": {},
   "source": [
    "### Model evaluation with the new data"
   ]
  },
  {
   "cell_type": "code",
   "execution_count": 34,
   "id": "internal-windsor",
   "metadata": {},
   "outputs": [
    {
     "name": "stdout",
     "output_type": "stream",
     "text": [
      "Test Mean Absolute Error: 17.600453694661457\n",
      "Test Root Mean Squared Error: 17.835011141412032\n"
     ]
    }
   ],
   "source": [
    "print('Test Mean Absolute Error:', mean_absolute_error(Y_test_new, test_new_predict))\n",
    "print('Test Root Mean Squared Error:',np.sqrt(mean_squared_error(Y_test_new, test_new_predict)))"
   ]
  },
  {
   "cell_type": "code",
   "execution_count": null,
   "id": "serial-authorization",
   "metadata": {},
   "outputs": [],
   "source": []
  }
 ],
 "metadata": {
  "kernelspec": {
   "display_name": "Python 3",
   "language": "python",
   "name": "python3"
  },
  "language_info": {
   "codemirror_mode": {
    "name": "ipython",
    "version": 3
   },
   "file_extension": ".py",
   "mimetype": "text/x-python",
   "name": "python",
   "nbconvert_exporter": "python",
   "pygments_lexer": "ipython3",
   "version": "3.8.12"
  },
  "toc": {
   "base_numbering": 1,
   "nav_menu": {},
   "number_sections": true,
   "sideBar": true,
   "skip_h1_title": false,
   "title_cell": "Table of Contents",
   "title_sidebar": "Contents",
   "toc_cell": false,
   "toc_position": {},
   "toc_section_display": true,
   "toc_window_display": false
  },
  "varInspector": {
   "cols": {
    "lenName": 16,
    "lenType": 16,
    "lenVar": 40
   },
   "kernels_config": {
    "python": {
     "delete_cmd_postfix": "",
     "delete_cmd_prefix": "del ",
     "library": "var_list.py",
     "varRefreshCmd": "print(var_dic_list())"
    },
    "r": {
     "delete_cmd_postfix": ") ",
     "delete_cmd_prefix": "rm(",
     "library": "var_list.r",
     "varRefreshCmd": "cat(var_dic_list()) "
    }
   },
   "types_to_exclude": [
    "module",
    "function",
    "builtin_function_or_method",
    "instance",
    "_Feature"
   ],
   "window_display": false
  }
 },
 "nbformat": 4,
 "nbformat_minor": 5
}
